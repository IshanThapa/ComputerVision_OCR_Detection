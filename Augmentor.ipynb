{
  "cells": [
    {
      "cell_type": "markdown",
      "metadata": {
        "id": "view-in-github",
        "colab_type": "text"
      },
      "source": [
        "<a href=\"https://colab.research.google.com/github/IshanThapa/ComputerVision_OCR_Detection/blob/main/Augmentor.ipynb\" target=\"_parent\"><img src=\"https://colab.research.google.com/assets/colab-badge.svg\" alt=\"Open In Colab\"/></a>"
      ]
    },
    {
      "cell_type": "code",
      "source": [
        "from google.colab import drive\n",
        "drive.mount('/content/drive')"
      ],
      "metadata": {
        "colab": {
          "base_uri": "https://localhost:8080/"
        },
        "id": "thb-wqgec_k7",
        "outputId": "4936545a-187c-411a-d674-f5b5ff9f551a"
      },
      "id": "thb-wqgec_k7",
      "execution_count": 4,
      "outputs": [
        {
          "output_type": "stream",
          "name": "stdout",
          "text": [
            "Mounted at /content/drive\n"
          ]
        }
      ]
    },
    {
      "cell_type": "code",
      "source": [
        "!pip install Augmentor"
      ],
      "metadata": {
        "colab": {
          "base_uri": "https://localhost:8080/"
        },
        "id": "bpXDj77wciSZ",
        "outputId": "85d10d23-2a87-42ed-aac0-a381e52b2597"
      },
      "id": "bpXDj77wciSZ",
      "execution_count": 2,
      "outputs": [
        {
          "output_type": "stream",
          "name": "stdout",
          "text": [
            "Collecting Augmentor\n",
            "  Downloading Augmentor-0.2.12-py2.py3-none-any.whl (38 kB)\n",
            "Requirement already satisfied: Pillow>=5.2.0 in /usr/local/lib/python3.10/dist-packages (from Augmentor) (9.4.0)\n",
            "Requirement already satisfied: tqdm>=4.9.0 in /usr/local/lib/python3.10/dist-packages (from Augmentor) (4.66.2)\n",
            "Requirement already satisfied: numpy>=1.11.0 in /usr/local/lib/python3.10/dist-packages (from Augmentor) (1.25.2)\n",
            "Installing collected packages: Augmentor\n",
            "Successfully installed Augmentor-0.2.12\n"
          ]
        }
      ]
    },
    {
      "cell_type": "code",
      "execution_count": 5,
      "id": "a7f1855a",
      "metadata": {
        "colab": {
          "base_uri": "https://localhost:8080/"
        },
        "id": "a7f1855a",
        "outputId": "93ac6ee7-d867-4f11-8722-8c118b04ad4f"
      },
      "outputs": [
        {
          "output_type": "stream",
          "name": "stdout",
          "text": [
            "Initialised with 2 image(s) found.\n",
            "Output directory set to /content/drive/MyDrive/test/output."
          ]
        }
      ],
      "source": [
        "import Augmentor\n",
        "p = Augmentor.Pipeline(\"/content/drive/MyDrive/test\")"
      ]
    },
    {
      "cell_type": "code",
      "execution_count": 6,
      "id": "4389d160",
      "metadata": {
        "id": "4389d160"
      },
      "outputs": [],
      "source": [
        "p.rotate(probability=0.7, max_left_rotation=10, max_right_rotation=10)"
      ]
    },
    {
      "cell_type": "code",
      "execution_count": 7,
      "id": "03b43d2f",
      "metadata": {
        "id": "03b43d2f"
      },
      "outputs": [],
      "source": [
        "p.rotate90(probability=0.5)"
      ]
    },
    {
      "cell_type": "code",
      "execution_count": 8,
      "id": "d1d9cdbd",
      "metadata": {
        "id": "d1d9cdbd"
      },
      "outputs": [],
      "source": [
        "p.rotate270(probability=0.5)"
      ]
    },
    {
      "cell_type": "code",
      "execution_count": 9,
      "id": "3a791bff",
      "metadata": {
        "id": "3a791bff"
      },
      "outputs": [],
      "source": [
        "p.flip_left_right(probability=0.75)"
      ]
    },
    {
      "cell_type": "code",
      "execution_count": 10,
      "id": "49f269c3",
      "metadata": {
        "id": "49f269c3"
      },
      "outputs": [],
      "source": [
        "p.flip_top_bottom(probability=0.5)"
      ]
    },
    {
      "cell_type": "code",
      "execution_count": 13,
      "id": "c1191214",
      "metadata": {
        "id": "c1191214"
      },
      "outputs": [],
      "source": [
        "p.crop_random(probability=0.1, percentage_area=0.1)"
      ]
    },
    {
      "cell_type": "code",
      "execution_count": 12,
      "id": "26befe4c",
      "metadata": {
        "id": "26befe4c"
      },
      "outputs": [],
      "source": [
        "p.resize(probability=1.0, width=80, height=80)"
      ]
    },
    {
      "cell_type": "code",
      "execution_count": null,
      "id": "9af1029e",
      "metadata": {
        "id": "9af1029e"
      },
      "outputs": [],
      "source": [
        "#p.random_brightness(probability = 0.5, min_factor=0.4, max_factor=0.9)\n",
        "#p.random_color(probability=0.5, min_factor=0.4, max_factor=0.9)\n",
        "#p.random_contrast(probability=0.5, min_factor=0.9, max_factor=1.4)\n",
        "#p.random_distortion(probability=0.5, grid_width=7, grid_height=8, magnitude=9)\n",
        "#p.random_erasing(probability0.5, rectangle_area=)\n",
        "#p.zoom(probability=0.7, min_factor=1.1, max_factor=1.5)"
      ]
    },
    {
      "cell_type": "code",
      "execution_count": 14,
      "id": "95e4eec3",
      "metadata": {
        "id": "95e4eec3"
      },
      "outputs": [],
      "source": [
        "p.zoom(probability=0.3, min_factor=1.1, max_factor=1.6)"
      ]
    },
    {
      "cell_type": "code",
      "execution_count": 15,
      "id": "84bfe3a6",
      "metadata": {
        "colab": {
          "base_uri": "https://localhost:8080/"
        },
        "id": "84bfe3a6",
        "outputId": "1adf2a48-9dfa-4a19-a0ad-f7bb8a94ec3c"
      },
      "outputs": [
        {
          "output_type": "stream",
          "name": "stderr",
          "text": [
            "Processing <PIL.Image.Image image mode=RGB size=80x80 at 0x7C62FBAE9480>: 100%|██████████| 10/10 [00:00<00:00, 13.88 Samples/s]\n"
          ]
        }
      ],
      "source": [
        "# Change the samples size according to requirements\n",
        "p.sample(10)"
      ]
    },
    {
      "cell_type": "code",
      "execution_count": 16,
      "id": "f1d2b2d6",
      "metadata": {
        "id": "f1d2b2d6"
      },
      "outputs": [],
      "source": [
        "#the images will be saved in the output folder of target folder in this case test folder\n"
      ]
    },
    {
      "cell_type": "code",
      "source": [],
      "metadata": {
        "id": "7MuQNJ8Pein6"
      },
      "id": "7MuQNJ8Pein6",
      "execution_count": null,
      "outputs": []
    }
  ],
  "metadata": {
    "kernelspec": {
      "display_name": "Python 3 (ipykernel)",
      "language": "python",
      "name": "python3"
    },
    "language_info": {
      "codemirror_mode": {
        "name": "ipython",
        "version": 3
      },
      "file_extension": ".py",
      "mimetype": "text/x-python",
      "name": "python",
      "nbconvert_exporter": "python",
      "pygments_lexer": "ipython3",
      "version": "3.7.13"
    },
    "colab": {
      "provenance": [],
      "include_colab_link": true
    }
  },
  "nbformat": 4,
  "nbformat_minor": 5
}